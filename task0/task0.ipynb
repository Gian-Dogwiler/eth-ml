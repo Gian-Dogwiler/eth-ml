{
 "cells": [
  {
   "cell_type": "code",
   "execution_count": 1,
   "metadata": {},
   "outputs": [],
   "source": [
    "import numpy as np"
   ]
  },
  {
   "cell_type": "code",
   "execution_count": 2,
   "metadata": {},
   "outputs": [
    {
     "name": "stdout",
     "output_type": "stream",
     "text": [
      "[[1.01829656e-12]\n",
      " [1.00000000e-01]\n",
      " [1.00000000e-01]\n",
      " [1.00000000e-01]\n",
      " [1.00000000e-01]\n",
      " [1.00000000e-01]\n",
      " [1.00000000e-01]\n",
      " [1.00000000e-01]\n",
      " [1.00000000e-01]\n",
      " [1.00000000e-01]\n",
      " [1.00000000e-01]]\n"
     ]
    }
   ],
   "source": [
    "train = open(\"data/train.csv\", \"r\")\n",
    "isFirstLine = True\n",
    "X = np.empty((0,11), float)\n",
    "y = np.empty((0,1), float)\n",
    "\n",
    "for row in train.readlines():\n",
    "    if isFirstLine:\n",
    "        isFirstLine = False\n",
    "        continue\n",
    "    \n",
    "    x = np.array([])\n",
    "    x = row.split(\",\")\n",
    "    x.pop(0)\n",
    "    x = [float(i) for i in x]\n",
    "    y = np.vstack([y,x[0]])\n",
    "    x[0] = 1.0\n",
    "    X = np.vstack([X,x])\n",
    "\n",
    "# Get the transpose of the matrix X\n",
    "X_tp = X.transpose()\n",
    "\n",
    "# Get the inverse of X_tp * X\n",
    "mult = np.matmul(X_tp,X)\n",
    "inv = np.linalg.inv(mult)\n",
    "\n",
    "# Get the final weights via the normal equations (least squares): w = (X_tp * X)^-1 * X_tp * y\n",
    "mult = np.matmul(inv,X_tp)\n",
    "w = np.matmul(mult,y)\n",
    "print(w)"
   ]
  },
  {
   "cell_type": "code",
   "execution_count": 3,
   "metadata": {
    "scrolled": true
   },
   "outputs": [],
   "source": [
    "test = open(\"data/test.csv\", \"r\")\n",
    "isFirstLine = True\n",
    "counter = 10000\n",
    "\n",
    "f = open(\"sol.csv\", \"w\")\n",
    "f.write(\"Id,y\\n\")\n",
    "\n",
    "for row in test.readlines():\n",
    "    if isFirstLine:\n",
    "        isFirstLine = False\n",
    "        continue\n",
    "    \n",
    "    x = np.array([])\n",
    "    x = row.split(\",\")\n",
    "    x[0] = 1.0\n",
    "    x = [float(i) for i in x]\n",
    "    \n",
    "    y_pred = np.matmul(x,w)\n",
    "\n",
    "    f = open(\"sol.csv\", \"a\")\n",
    "    f.write(str(counter) + \",\" + str(y_pred[0]) + \"\\n\")\n",
    "    f.close()\n",
    "    \n",
    "    counter += 1\n"
   ]
  }
 ],
 "metadata": {
  "kernelspec": {
   "display_name": "Python 3 (ipykernel)",
   "language": "python",
   "name": "python3"
  },
  "language_info": {
   "codemirror_mode": {
    "name": "ipython",
    "version": 3
   },
   "file_extension": ".py",
   "mimetype": "text/x-python",
   "name": "python",
   "nbconvert_exporter": "python",
   "pygments_lexer": "ipython3",
   "version": "3.11.0"
  },
  "vscode": {
   "interpreter": {
    "hash": "1a1af0ee75eeea9e2e1ee996c87e7a2b11a0bebd85af04bb136d915cefc0abce"
   }
  }
 },
 "nbformat": 4,
 "nbformat_minor": 2
}
