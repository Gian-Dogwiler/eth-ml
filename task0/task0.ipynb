{
 "cells": [
  {
   "cell_type": "code",
   "execution_count": 1,
   "metadata": {},
   "outputs": [],
   "source": [
    "import numpy as np\n",
    "import pandas as pd"
   ]
  },
  {
   "cell_type": "code",
   "execution_count": 1,
   "metadata": {},
   "outputs": [],
   "source": [
    "train_data = pd.read_csv(\"data/train.csv\")\n",
    "\n",
    "x_train = train_data.loc[:,\"x1\":\"x10\"].to_numpy()\n",
    "y_train = train_data[\"y\"].to_numpy()\n",
    "\n",
    "b, *_ = np.linalg.lstsq(x_train, y_train, rcond=None)"
   ]
  },
  {
   "cell_type": "code",
   "execution_count": 1,
   "metadata": {},
   "outputs": [],
   "source": [
    "test_data = pd.read_csv(\"data/test.csv\")\n",
    "\n",
    "x_test = test_data.loc[:, \"x1\":\"x10\"].to_numpy()\n",
    "\n",
    "y_pred = x_test @ b\n",
    "\n",
    "res = pd.DataFrame()\n",
    "res[\"Id\"] = test_data[\"Id\"].values\n",
    "res[\"y\"] = pd.Series(y_pred)\n",
    "\n",
    "res.to_csv(\"sol.csv\", index=False)    "
   ]
  }
 ],
 "metadata": {
  "kernelspec": {
   "display_name": "Python 3",
   "language": "python",
   "name": "python3"
  },
  "language_info": {
   "codemirror_mode": {
    "name": "ipython",
    "version": 3
   },
   "file_extension": ".py",
   "mimetype": "text/x-python",
   "name": "python",
   "nbconvert_exporter": "python",
   "pygments_lexer": "ipython3",
   "version": "3.8.10"
  },
  "vscode": {
   "interpreter": {
    "hash": "916dbcbb3f70747c44a77c7bcd40155683ae19c65e1c03b4aa3499c5328201f1"
   }
  }
 },
 "nbformat": 4,
 "nbformat_minor": 2
}
